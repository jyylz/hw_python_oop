{
 "cells": [
  {
   "cell_type": "code",
   "execution_count": 107,
   "id": "7cfde2b6",
   "metadata": {},
   "outputs": [],
   "source": [
    "import datetime as dt\n",
    "date_format = '%d.%m.%Y'\n",
    "USD_RATE = 70\n",
    "EURO_RATE = 60\n",
    "\n",
    "class Calculator:\n",
    "    def __init__(self, limit):\n",
    "        self.limit = limit\n",
    "        self.records = []\n",
    "\n",
    "    def add_record(self, record):\n",
    "        self.records.append(record)\n",
    "    \n",
    "    def get_today_stats(self):\n",
    "        s = 0\n",
    "        for record in self.records:\n",
    "            s = (s + record.amount) if record.date == dt.datetime.today().date() else s\n",
    "        return s\n",
    "    \n",
    "    def get_today_remained(self):\n",
    "        left = self.limit - self.get_today_stats()\n",
    "        return left\n",
    "    \n",
    "    def get_week_stats(self):\n",
    "        s = 0\n",
    "        low_boundary = dt.datetime.today().date() - dt.timedelta(days = 7)\n",
    "        print(low_boundary)\n",
    "        for record in self.records:\n",
    "            s = (s + record.amount) if record.date >= low_boundary else s\n",
    "        return s\n",
    "\n",
    "class Record:\n",
    "    def __init__(self, amount, comment, date = dt.datetime.today()):\n",
    "        self.amount = amount\n",
    "        self.date = dt.datetime.strptime(date, date_format).date()\n",
    "        self.comment = comment\n",
    "\n",
    "class CashCalculator(Calculator):\n",
    "    def get_today_cash_remained(self, currency):\n",
    "        left = super().get_today_remained()\n",
    "        if currency == 'rub': currency = 'руб'\n",
    "        elif currency == 'usd': \n",
    "            left = round(left/USD_RATE,2)\n",
    "            currency = 'USD'\n",
    "        else: \n",
    "            left = round(left/EURO_RATE,2)\n",
    "            currency = 'Euro'\n",
    "            \n",
    "        if left > 0: print(f'На сегодня осталось {left} {currency}')\n",
    "        elif left == 0: print('Денег нет, держись')\n",
    "        else: print(f'Денег нет, держись: твой долг - {-left} {currency}')\n",
    "\n",
    "class CaloriesCalculator(Calculator):\n",
    "    def get_calories_remained():\n",
    "        left = super().get_today_remained()\n",
    "        if left > 0: print(f'Сегодня можно съесть что-нибудь ещё,'\n",
    "                           'но с общей калорийностью не более {left} кКал')\n",
    "        else: print('Хватит есть!')"
   ]
  },
  {
   "cell_type": "code",
   "execution_count": 108,
   "id": "90bfeb89",
   "metadata": {},
   "outputs": [],
   "source": [
    "r1 = Record(amount = 145, comment = 'Безудержный шопинг', \n",
    "            date = '24.07.2023')\n",
    "r2 = Record(amount = 1568, comment = 'Наполнение потребительской корзины',\n",
    "            date = '21.07.2023')\n",
    "r3 = Record(amount = 691, comment = 'Катание на такси', date = '08.03.2023')\n",
    "r4 = Record(amount = 1186, comment = 'Кусок тортика. И ещё один.',\n",
    "            date = '24.07.2023')\n",
    "r5 = Record(amount = 84, comment = 'Йогурт.', date = '23.07.2023')\n",
    "r6 = Record(amount = 1140, comment = 'Баночка чипсов.', date = '24.02.2023') "
   ]
  },
  {
   "cell_type": "code",
   "execution_count": 109,
   "id": "76eb1757",
   "metadata": {},
   "outputs": [],
   "source": [
    "c1 = CashCalculator(2000)\n",
    "c2 = CaloriesCalculator(2500)"
   ]
  },
  {
   "cell_type": "code",
   "execution_count": 110,
   "id": "70b4953b",
   "metadata": {},
   "outputs": [],
   "source": [
    "c1.add_record(r1)\n",
    "c1.add_record(r2)\n",
    "c1.add_record(r3)\n",
    "c2.add_record(r4)\n",
    "c2.add_record(r5)\n",
    "c2.add_record(r6)"
   ]
  },
  {
   "cell_type": "code",
   "execution_count": 111,
   "id": "97282d9b",
   "metadata": {},
   "outputs": [
    {
     "name": "stdout",
     "output_type": "stream",
     "text": [
      "Безудержный шопинг\n",
      "Наполнение потребительской корзины\n",
      "Катание на такси\n"
     ]
    }
   ],
   "source": [
    "for record in c1.records:\n",
    "    print(record.comment)"
   ]
  },
  {
   "cell_type": "code",
   "execution_count": 112,
   "id": "1b1647f5",
   "metadata": {},
   "outputs": [
    {
     "name": "stdout",
     "output_type": "stream",
     "text": [
      "Кусок тортика. И ещё один.\n",
      "Йогурт.\n",
      "Баночка чипсов.\n"
     ]
    }
   ],
   "source": [
    "for record in c2.records:\n",
    "    print(record.comment)"
   ]
  },
  {
   "cell_type": "code",
   "execution_count": 113,
   "id": "43125997",
   "metadata": {},
   "outputs": [
    {
     "data": {
      "text/plain": [
       "145"
      ]
     },
     "execution_count": 113,
     "metadata": {},
     "output_type": "execute_result"
    }
   ],
   "source": [
    "c1.get_today_stats()"
   ]
  },
  {
   "cell_type": "code",
   "execution_count": 114,
   "id": "e3a48e50",
   "metadata": {},
   "outputs": [
    {
     "data": {
      "text/plain": [
       "1186"
      ]
     },
     "execution_count": 114,
     "metadata": {},
     "output_type": "execute_result"
    }
   ],
   "source": [
    "c2.get_today_stats()"
   ]
  },
  {
   "cell_type": "code",
   "execution_count": 117,
   "id": "814b9431",
   "metadata": {},
   "outputs": [
    {
     "name": "stdout",
     "output_type": "stream",
     "text": [
      "На сегодня осталось 1855 руб\n"
     ]
    }
   ],
   "source": [
    "c1.get_today_cash_remained('rub')"
   ]
  },
  {
   "cell_type": "code",
   "execution_count": 116,
   "id": "567e2aa8",
   "metadata": {},
   "outputs": [
    {
     "name": "stdout",
     "output_type": "stream",
     "text": [
      "2023-07-17\n"
     ]
    },
    {
     "data": {
      "text/plain": [
       "1270"
      ]
     },
     "execution_count": 116,
     "metadata": {},
     "output_type": "execute_result"
    }
   ],
   "source": [
    "c2.get_week_stats()"
   ]
  },
  {
   "cell_type": "code",
   "execution_count": null,
   "id": "380caf1a",
   "metadata": {},
   "outputs": [],
   "source": []
  }
 ],
 "metadata": {
  "kernelspec": {
   "display_name": "Python 3 (ipykernel)",
   "language": "python",
   "name": "python3"
  },
  "language_info": {
   "codemirror_mode": {
    "name": "ipython",
    "version": 3
   },
   "file_extension": ".py",
   "mimetype": "text/x-python",
   "name": "python",
   "nbconvert_exporter": "python",
   "pygments_lexer": "ipython3",
   "version": "3.10.5"
  }
 },
 "nbformat": 4,
 "nbformat_minor": 5
}
